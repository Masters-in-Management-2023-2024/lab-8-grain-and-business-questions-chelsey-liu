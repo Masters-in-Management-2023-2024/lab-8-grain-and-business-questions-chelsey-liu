{
  "cells": [
    {
      "cell_type": "markdown",
      "metadata": {
        "id": "KdjdvU5g5CpW"
      },
      "source": [
        "# Diamond Company Analytics Challenge\n",
        "\n",
        "**Time:** 35 minutes\n",
        "\n",
        "**Scenario:** You are the new data analyst at a prestigious diamond company. The CEO has called an urgent meeting and needs answers to critical business questions about the inventory.\n",
        "\n",
        "**Your Mission:** Analyze the diamond inventory data and provide insights to guide strategic decisions."
      ]
    },
    {
      "cell_type": "code",
      "execution_count": null,
      "metadata": {
        "id": "u98qUQrU5CpY"
      },
      "outputs": [],
      "source": [
        "import polars as pl\n",
        "\n",
        "# Load the diamonds dataset\n",
        "print(\"Loading diamonds dataset...\")\n",
        "df = pl.read_csv('https://raw.githubusercontent.com/pycaret/pycaret/master/datasets/diamond.csv')\n",
        "print(\"Dataset loaded successfully!\")"
      ]
    },
    {
      "cell_type": "markdown",
      "metadata": {
        "id": "AlRazycD5CpZ"
      },
      "source": [
        "## Section 1: Initial Inventory Assessment (5 minutes)\n",
        "\n",
        "The CEO walks in: \"Before we dive into specifics, I need to understand what we're working with. Give me the basics about our inventory database.\""
      ]
    },
    {
      "cell_type": "markdown",
      "metadata": {
        "id": "n-5PPVD65CpZ"
      },
      "source": [
        "### Question 1: \"How extensive is our inventory database?\"\n",
        "\n",
        "The CEO needs to know the scale of data you're analyzing."
      ]
    },
    {
      "cell_type": "code",
      "execution_count": null,
      "metadata": {
        "id": "mIkgBhHP5CpZ",
        "colab": {
          "base_uri": "https://localhost:8080/"
        },
        "outputId": "b5803b89-2711-4e21-f52c-524409970ad7"
      },
      "outputs": [
        {
          "output_type": "stream",
          "name": "stdout",
          "text": [
            "Our inventory has 6,000 diamonds and 8 attributes.\n"
          ]
        }
      ],
      "source": [
        "# Your code here:\n",
        "# Check the dimensions of the dataset\n",
        "rows, cols = df.shape\n",
        "print(f\"Our inventory has {rows:,} diamonds and {cols} attributes.\")"
      ]
    },
    {
      "cell_type": "markdown",
      "metadata": {
        "id": "6IUAknS25Cpa"
      },
      "source": [
        "### Question 2: \"What information do we track about each diamond?\"\n",
        "\n",
        "List all the characteristics we record."
      ]
    },
    {
      "cell_type": "code",
      "execution_count": null,
      "metadata": {
        "id": "GsSeL_l65Cpa",
        "colab": {
          "base_uri": "https://localhost:8080/"
        },
        "outputId": "057f9f3f-2f62-4693-faa1-056ba6e433f9"
      },
      "outputs": [
        {
          "output_type": "stream",
          "name": "stdout",
          "text": [
            "We track the following information about each diamond:\n",
            "['Carat Weight', 'Cut', 'Color', 'Clarity', 'Polish', 'Symmetry', 'Report', 'Price']\n"
          ]
        }
      ],
      "source": [
        "# Your code here:\n",
        "print(\"We track the following information about each diamond:\")\n",
        "print(df.columns)"
      ]
    },
    {
      "cell_type": "markdown",
      "metadata": {
        "id": "1EqF-MkP5Cpa"
      },
      "source": [
        "### Question 3: \"When I look at one line in this database, what am I looking at?\"\n",
        "\n",
        "Explain in business terms: Each row is a unique diamond and information regarding characteristics of it."
      ]
    },
    {
      "cell_type": "markdown",
      "metadata": {
        "id": "L5C8F4285Cpa"
      },
      "source": [
        "**Your answer:** Each row represents: a unique diamond in the database"
      ]
    },
    {
      "cell_type": "code",
      "source": [],
      "metadata": {
        "id": "o6IvEsCL51Nl"
      },
      "execution_count": null,
      "outputs": []
    },
    {
      "cell_type": "markdown",
      "metadata": {
        "id": "Zk8Xvqcx5Cpa"
      },
      "source": [
        "## Section 2: Strategic Business Questions (20 minutes)\n",
        "\n",
        "The CEO continues: \"Now let's get to the important questions. Our board meeting is tomorrow and I need concrete numbers.\""
      ]
    },
    {
      "cell_type": "markdown",
      "metadata": {
        "id": "XHeUJfPo5Cpa"
      },
      "source": [
        "### Question 4: \"We're considering expanding our storage facilities. How many total carats do we have in inventory? I need to know if our vaults can handle the weight.\"\n",
        "\n",
        "Think about what measurement would help answer this."
      ]
    },
    {
      "cell_type": "code",
      "execution_count": 6,
      "metadata": {
        "id": "vA3a71Os5Cpa",
        "colab": {
          "base_uri": "https://localhost:8080/"
        },
        "outputId": "1782abc7-f3e9-4cc9-d36c-72221c492638"
      },
      "outputs": [
        {
          "output_type": "stream",
          "name": "stdout",
          "text": [
            "The total carats in our inventory is 8007.12 carats.\n"
          ]
        }
      ],
      "source": [
        "# Your code here:\n",
        "total_carats = df.select(pl.sum(\"Carat Weight\")).item()\n",
        "print(f\"The total carats in our inventory is {total_carats:.2f} carats.\")"
      ]
    },
    {
      "cell_type": "markdown",
      "metadata": {
        "id": "ccG_3aBB5Cpa"
      },
      "source": [
        "### Question 5: \"Our new marketing campaign claims we have 'the widest variety of cuts in the industry.' Can you verify this?\"\n",
        "\n",
        "The CEO wants to know about variety, not quantity."
      ]
    },
    {
      "cell_type": "code",
      "execution_count": 8,
      "metadata": {
        "id": "iAXJtATg5Cpa",
        "colab": {
          "base_uri": "https://localhost:8080/"
        },
        "outputId": "4a1c82e2-7027-4d34-81f0-36a9b213c7dc"
      },
      "outputs": [
        {
          "output_type": "stream",
          "name": "stdout",
          "text": [
            "We track 5 unique cuts in our inventory:\n",
            "- Fair\n",
            "- Ideal\n",
            "- Signature-Ideal\n",
            "- Good\n",
            "- Very Good\n"
          ]
        }
      ],
      "source": [
        "# Your code here:\n",
        "unique_cuts = df.select(pl.col(\"Cut\").unique()).to_series().to_list()\n",
        "num_cuts = len(unique_cuts)\n",
        "\n",
        "print(f\"We track {num_cuts} unique cuts in our inventory:\")\n",
        "for cut in unique_cuts:\n",
        "    print(f\"- {cut}\")"
      ]
    },
    {
      "cell_type": "markdown",
      "metadata": {
        "id": "dnsXTyH35Cpb"
      },
      "source": [
        "### Question 6: \"I'm meeting with our insurance company. They need to know our price exposure - what's our most and least valuable diamond?\""
      ]
    },
    {
      "cell_type": "code",
      "execution_count": 10,
      "metadata": {
        "id": "s780MnAZ5Cpb",
        "colab": {
          "base_uri": "https://localhost:8080/"
        },
        "outputId": "9947c0f5-3668-43b9-d2b3-b5da36dcee10"
      },
      "outputs": [
        {
          "output_type": "stream",
          "name": "stdout",
          "text": [
            "Our most valuable diamond is priced at $101,561.\n",
            "Our least valuable diamond is priced at $2,184.\n"
          ]
        }
      ],
      "source": [
        "# Your code here:\n",
        "most_expensive = df.select(pl.max(\"Price\")).item()\n",
        "least_expensive = df.select(pl.min(\"Price\")).item()\n",
        "\n",
        "print(f\"Our most valuable diamond is priced at ${most_expensive:,}.\")\n",
        "print(f\"Our least valuable diamond is priced at ${least_expensive:,}.\")"
      ]
    },
    {
      "cell_type": "markdown",
      "metadata": {
        "id": "VeohMFmu5Cpb"
      },
      "source": [
        "### Question 7: \"Which color grades should we focus on in our premium line? I need typical prices across our color spectrum.\"\n",
        "\n",
        "The CEO wants to understand pricing patterns."
      ]
    },
    {
      "cell_type": "code",
      "execution_count": 12,
      "metadata": {
        "id": "uMcJkIbs5Cpb",
        "colab": {
          "base_uri": "https://localhost:8080/"
        },
        "outputId": "af1fbb02-6b06-4bb1-ae0c-553de713cc5b"
      },
      "outputs": [
        {
          "output_type": "stream",
          "name": "stdout",
          "text": [
            "shape: (6, 2)\n",
            "┌───────┬──────────────┐\n",
            "│ Color ┆ avg_price    │\n",
            "│ ---   ┆ ---          │\n",
            "│ str   ┆ f64          │\n",
            "╞═══════╪══════════════╡\n",
            "│ D     ┆ 15255.783661 │\n",
            "│ F     ┆ 12712.241856 │\n",
            "│ G     ┆ 12520.050633 │\n",
            "│ E     ┆ 11539.190231 │\n",
            "│ H     ┆ 10487.347544 │\n",
            "│ I     ┆ 8989.636364  │\n",
            "└───────┴──────────────┘\n"
          ]
        }
      ],
      "source": [
        "# Your code here:\n",
        "avg_price_by_color = (\n",
        "    df.group_by(\"Color\")\n",
        "      .agg(pl.mean(\"Price\").alias(\"avg_price\"))\n",
        "      .sort(\"avg_price\", descending=True)\n",
        ")\n",
        "\n",
        "print(avg_price_by_color)"
      ]
    },
    {
      "cell_type": "markdown",
      "metadata": {
        "id": "KTkrhK_c5Cpb"
      },
      "source": [
        "**Reflection:** After analyzing by color, how has your view of the data changed? What does each row in your result represent now?"
      ]
    },
    {
      "cell_type": "markdown",
      "metadata": {
        "id": "KAD5c70E5Cpb"
      },
      "source": [
        "**Your answer:** New grain = a color category, and summarizes all diamonds of that color"
      ]
    },
    {
      "cell_type": "markdown",
      "metadata": {
        "id": "24ZT0mRW5Cpb"
      },
      "source": [
        "## Section 3: Advanced Strategic Analysis (10 minutes)\n",
        "\n",
        "The CEO leans forward: \"These next questions will shape our strategy for next year.\""
      ]
    },
    {
      "cell_type": "markdown",
      "metadata": {
        "id": "VCSEH2cW5Cpb"
      },
      "source": [
        "### Question 8: \"We're thinking of specializing in certain clarity grades. For our investor deck, I need a complete breakdown showing: how many diamonds we have in each clarity grade, their typical price, and the total carats we're holding for each grade.\""
      ]
    },
    {
      "cell_type": "code",
      "execution_count": 14,
      "metadata": {
        "id": "LVbjJmAa5Cpb",
        "colab": {
          "base_uri": "https://localhost:8080/"
        },
        "outputId": "5d961deb-afdf-4d14-984a-6b829d7922fc"
      },
      "outputs": [
        {
          "output_type": "stream",
          "name": "stdout",
          "text": [
            "shape: (7, 4)\n",
            "┌─────────┬───────────────┬───────────┬──────────────┐\n",
            "│ Clarity ┆ diamond_count ┆ avg_price ┆ total_carats │\n",
            "│ ---     ┆ ---           ┆ ---       ┆ ---          │\n",
            "│ str     ┆ u32           ┆ f64       ┆ f64          │\n",
            "╞═════════╪═══════════════╪═══════════╪══════════════╡\n",
            "│ FL      ┆ 4             ┆ 63776.0   ┆ 7.87         │\n",
            "│ IF      ┆ 219           ┆ 22105.84  ┆ 316.0        │\n",
            "│ VVS1    ┆ 285           ┆ 16845.68  ┆ 389.43       │\n",
            "│ VVS2    ┆ 666           ┆ 14142.18  ┆ 876.58       │\n",
            "│ VS1     ┆ 1192          ┆ 13694.11  ┆ 1682.74      │\n",
            "│ VS2     ┆ 1575          ┆ 11809.05  ┆ 2170.81      │\n",
            "│ SI1     ┆ 2059          ┆ 8018.86   ┆ 2563.69      │\n",
            "└─────────┴───────────────┴───────────┴──────────────┘\n"
          ]
        },
        {
          "output_type": "stream",
          "name": "stderr",
          "text": [
            "/tmp/ipython-input-802250209.py:4: DeprecationWarning: `pl.count()` is deprecated. Please use `pl.len()` instead.\n",
            "  pl.count().alias(\"diamond_count\"),\n"
          ]
        }
      ],
      "source": [
        "clarity_summary = (\n",
        "    df.group_by(\"Clarity\")\n",
        "      .agg([\n",
        "          pl.count().alias(\"diamond_count\"),\n",
        "          pl.col(\"Price\").mean().round(2).alias(\"avg_price\"),\n",
        "          pl.col(\"Carat Weight\").sum().round(2).alias(\"total_carats\")\n",
        "      ])\n",
        "      .sort(\"avg_price\", descending=True)  # optional, sorts by typical price\n",
        ")\n",
        "\n",
        "print(clarity_summary)"
      ]
    },
    {
      "cell_type": "markdown",
      "metadata": {
        "id": "btRVnEXG5Cpb"
      },
      "source": [
        "### Question 9: \"My luxury competitor claims they have the best prices for every cut-color combination. Show me our pricing structure across these combinations - I want to see where we're competitive.\""
      ]
    },
    {
      "cell_type": "code",
      "execution_count": 18,
      "metadata": {
        "id": "gImWlmNR5Cpb",
        "colab": {
          "base_uri": "https://localhost:8080/"
        },
        "outputId": "678e1e1f-7dbe-4dad-b488-4edeccd64b57"
      },
      "outputs": [
        {
          "output_type": "stream",
          "name": "stdout",
          "text": [
            "shape: (30, 4)\n",
            "┌───────────┬───────┬───────────┬───────────────┐\n",
            "│ Cut       ┆ Color ┆ avg_price ┆ diamond_count │\n",
            "│ ---       ┆ ---   ┆ ---       ┆ ---           │\n",
            "│ str       ┆ str   ┆ f64       ┆ u32           │\n",
            "╞═══════════╪═══════╪═══════════╪═══════════════╡\n",
            "│ Fair      ┆ D     ┆ 6058.25   ┆ 12            │\n",
            "│ Fair      ┆ E     ┆ 5370.63   ┆ 32            │\n",
            "│ Fair      ┆ F     ┆ 6063.63   ┆ 24            │\n",
            "│ Fair      ┆ G     ┆ 7345.52   ┆ 21            │\n",
            "│ Fair      ┆ H     ┆ 5908.5    ┆ 24            │\n",
            "│ …         ┆ …     ┆ …         ┆ …             │\n",
            "│ Very Good ┆ E     ┆ 12101.91  ┆ 323           │\n",
            "│ Very Good ┆ F     ┆ 12413.91  ┆ 455           │\n",
            "│ Very Good ┆ G     ┆ 12354.01  ┆ 578           │\n",
            "│ Very Good ┆ H     ┆ 10056.11  ┆ 424           │\n",
            "│ Very Good ┆ I     ┆ 8930.03   ┆ 383           │\n",
            "└───────────┴───────┴───────────┴───────────────┘\n"
          ]
        }
      ],
      "source": [
        "# Your code here:\n",
        "cut_color_summary = (\n",
        "    df.group_by([\"Cut\", \"Color\"])\n",
        "      .agg([\n",
        "          pl.col(\"Price\").mean().round(2).alias(\"avg_price\"),\n",
        "          pl.len().alias(\"diamond_count\")  # optional: shows how many in each group\n",
        "      ])\n",
        "      .sort([\"Cut\", \"Color\"])\n",
        ")\n",
        "\n",
        "print(cut_color_summary)"
      ]
    },
    {
      "cell_type": "markdown",
      "metadata": {
        "id": "16andiP95Cpc"
      },
      "source": [
        "**Reflection:** How specific is your analysis now? What level of detail does each row represent? - the analysis is now more granular."
      ]
    },
    {
      "cell_type": "markdown",
      "metadata": {
        "id": "RZjW-Ep65Cpc"
      },
      "source": [
        "**Your answer:** New grain = diamonds that share the same cut and color. One specific batch of diamonds."
      ]
    },
    {
      "cell_type": "markdown",
      "metadata": {
        "id": "FdaFT1o_5Cpc"
      },
      "source": [
        "### Question 10: URGENT - \"Our biggest client is interested in purchasing entire inventory segments. They asked: 'Which color-cut combinations represent your highest total inventory value?' Show me the top 5 most valuable inventory segments by total worth, and include how many diamonds are in each segment.\"\n",
        "\n",
        "This is critical for tomorrow's negotiation."
      ]
    },
    {
      "cell_type": "code",
      "execution_count": 20,
      "metadata": {
        "id": "TKUM551m5Cpc",
        "colab": {
          "base_uri": "https://localhost:8080/"
        },
        "outputId": "f5eb1eb1-42c1-4250-c198-859e462fb674"
      },
      "outputs": [
        {
          "output_type": "stream",
          "name": "stdout",
          "text": [
            "shape: (5, 4)\n",
            "┌───────────┬───────┬─────────────┬───────────────┐\n",
            "│ Cut       ┆ Color ┆ total_value ┆ diamond_count │\n",
            "│ ---       ┆ ---   ┆ ---         ┆ ---           │\n",
            "│ str       ┆ str   ┆ i64         ┆ u32           │\n",
            "╞═══════════╪═══════╪═════════════╪═══════════════╡\n",
            "│ Ideal     ┆ G     ┆ 9363514     ┆ 690           │\n",
            "│ Very Good ┆ G     ┆ 7140620     ┆ 578           │\n",
            "│ Very Good ┆ F     ┆ 5648327     ┆ 455           │\n",
            "│ Ideal     ┆ F     ┆ 5346782     ┆ 363           │\n",
            "│ Ideal     ┆ H     ┆ 5279687     ┆ 458           │\n",
            "└───────────┴───────┴─────────────┴───────────────┘\n"
          ]
        }
      ],
      "source": [
        "# Your code here:\n",
        "inventory_segments = (\n",
        "    df.group_by([\"Cut\", \"Color\"])\n",
        "      .agg([\n",
        "          pl.sum(\"Price\").alias(\"total_value\"),    # total inventory value\n",
        "          pl.len().alias(\"diamond_count\")        # number of diamonds in this segment\n",
        "      ])\n",
        "      .sort(\"total_value\", descending=True)       # top segments first\n",
        ")\n",
        "\n",
        "# Show top 5 most valuable segments\n",
        "top_5_segments = inventory_segments.head(5)\n",
        "print(top_5_segments)"
      ]
    },
    {
      "cell_type": "markdown",
      "metadata": {
        "id": "SvDbPa7K5Cpc"
      },
      "source": [
        "## Debrief\n",
        "\n",
        "Congratulations! You've just completed your first day as the diamond company's data analyst.\n",
        "\n",
        "Remember:\n",
        "- CEOs speak in business language, not technical terms\n",
        "- Always understand what each row represents before analyzing\n",
        "- Business questions contain clues about which operations to use"
      ]
    },
    {
      "cell_type": "code",
      "metadata": {
        "colab": {
          "base_uri": "https://localhost:8080/"
        },
        "id": "0e599d74",
        "outputId": "2523d2a8-1e1e-4411-c596-b7690fe7a92f"
      },
      "source": [
        "import polars as pl\n",
        "\n",
        "# Load the diamonds dataset\n",
        "print(\"Loading diamonds dataset...\")\n",
        "df = pl.read_csv('https://raw.githubusercontent.com/pycaret/pycaret/master/datasets/diamond.csv')\n",
        "print(\"Dataset loaded successfully!\")\n",
        "\n",
        "# Your code here:\n",
        "rows, cols = df.shape\n",
        "print(f\"Our inventory has {rows:,} diamonds and {cols} attributes.\")"
      ],
      "execution_count": 21,
      "outputs": [
        {
          "output_type": "stream",
          "name": "stdout",
          "text": [
            "Loading diamonds dataset...\n",
            "Dataset loaded successfully!\n",
            "Our inventory has 6,000 diamonds and 8 attributes.\n"
          ]
        }
      ]
    }
  ],
  "metadata": {
    "kernelspec": {
      "display_name": "Python 3",
      "language": "python",
      "name": "python3"
    },
    "language_info": {
      "codemirror_mode": {
        "name": "ipython",
        "version": 3
      },
      "file_extension": ".py",
      "mimetype": "text/x-python",
      "name": "python",
      "nbconvert_exporter": "python",
      "pygments_lexer": "ipython3",
      "version": "3.12.0"
    },
    "colab": {
      "provenance": []
    }
  },
  "nbformat": 4,
  "nbformat_minor": 0
}